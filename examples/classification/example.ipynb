{
 "cells": [
  {
   "cell_type": "markdown",
   "metadata": {},
   "source": [
    "# importing the MLBox"
   ]
  },
  {
   "cell_type": "code",
   "execution_count": 1,
   "metadata": {
    "scrolled": true
   },
   "outputs": [
    {
     "name": "stderr",
     "output_type": "stream",
     "text": [
      "/home/datageek/anaconda2/lib/python2.7/site-packages/mlbox/preprocessing/drift/__init__.py:9: UserWarning: ipCluster is starting. Please wait 30 sec and check in terminal that 'the engines appear to have started successfully'.\n",
      "  warnings.warn(\"ipCluster is starting. Please wait 30 sec and check in terminal that 'the engines appear to have started successfully'.\")\n",
      "Using Theano backend.\n",
      "/home/datageek/anaconda2/lib/python2.7/site-packages/sklearn/cross_validation.py:41: DeprecationWarning: This module was deprecated in version 0.18 in favor of the model_selection module into which all the refactored classes and functions are moved. Also note that the interface of the new CV iterators are different from that of this module. This module will be removed in 0.20.\n",
      "  \"This module will be removed in 0.20.\", DeprecationWarning)\n"
     ]
    }
   ],
   "source": [
    "from mlbox.preprocessing import *\n",
    "from mlbox.optimisation import *\n",
    "from mlbox.prediction import *"
   ]
  },
  {
   "cell_type": "code",
   "execution_count": 2,
   "metadata": {
    "collapsed": true
   },
   "outputs": [],
   "source": [
    "paths = [\"train.csv\",\"test.csv\"]\n",
    "target_name = \"Survived\""
   ]
  },
  {
   "cell_type": "markdown",
   "metadata": {},
   "source": [
    "# reading and cleaning all files "
   ]
  },
  {
   "cell_type": "code",
   "execution_count": 3,
   "metadata": {
    "scrolled": true
   },
   "outputs": [
    {
     "name": "stdout",
     "output_type": "stream",
     "text": [
      "\n",
      "reading csv : train.csv ...\n",
      "cleaning data...\n",
      "CPU time: 0.163899898529 seconds\n",
      "\n",
      "reading csv : test.csv ...\n",
      "cleaning data...\n",
      "CPU time: 0.128423929214 seconds\n",
      "\n",
      "number of common features : 11\n",
      "\n",
      "gathering and crunching for train and test datasets\n",
      "reindexing for train and test datasets\n",
      "dropping training duplicates\n",
      "dropping constant variables on training set\n",
      "\n",
      "number of categorical features : 5\n",
      "number of numerical features : 6\n",
      "number of training samples : 891\n",
      "number of test samples : 418\n",
      "\n",
      "Top sparse features (% missing values on train set):\n",
      "Cabin       77.1\n",
      "Age         19.9\n",
      "Embarked     0.2\n",
      "dtype: float64\n",
      "\n",
      "task : classification\n",
      "0.0    549\n",
      "1.0    342\n",
      "Name: Survived, dtype: int64\n",
      "encoding target\n"
     ]
    }
   ],
   "source": [
    "rd = Reader(sep = ',')\n",
    "df = rd.train_test_split(paths, target_name)"
   ]
  },
  {
   "cell_type": "code",
   "execution_count": 4,
   "metadata": {
    "scrolled": false
   },
   "outputs": [
    {
     "name": "stdout",
     "output_type": "stream",
     "text": [
      "\n",
      "computing drifts...\n",
      "CPU time: 0.416911840439 seconds\n",
      "\n",
      "Top 10 drifts\n",
      "\n",
      "('PassengerId', 1.0)\n",
      "('Name', 0.99704442935827498)\n",
      "('Ticket', 0.84579063327276627)\n",
      "('Cabin', 0.59550700418006364)\n",
      "('Embarked', 0.53834737054254522)\n",
      "('SibSp', 0.52134352316754273)\n",
      "('Fare', 0.51744001298932041)\n",
      "('Sex', 0.51694417436933204)\n",
      "('Pclass', 0.51382143975575834)\n",
      "('Parch', 0.50992009325888499)\n",
      "\n",
      "deleted variables : ['Name', 'PassengerId', 'Ticket']\n",
      "\n",
      "dumping drift coefficients into directory : save\n",
      "drift coefficients dumped\n"
     ]
    }
   ],
   "source": [
    "dft = Drift_thresholder()\n",
    "df = dft.fit_transform(df)"
   ]
  },
  {
   "cell_type": "markdown",
   "metadata": {},
   "source": [
    "# tuning"
   ]
  },
  {
   "cell_type": "code",
   "execution_count": 5,
   "metadata": {
    "collapsed": true
   },
   "outputs": [],
   "source": [
    "opt = Optimiser(scoring = 'accuracy', n_folds = 2)"
   ]
  },
  {
   "cell_type": "code",
   "execution_count": 6,
   "metadata": {
    "scrolled": true
   },
   "outputs": [
    {
     "name": "stdout",
     "output_type": "stream",
     "text": [
      "No parameters set. Default configuration is tested\n",
      "\n",
      "##################################################### testing hyper-parameters... ############################################################\n",
      "\n",
      ">>> NA ENCODER :{'numerical_strategy': 'mean', 'categorical_strategy': '<NULL>'}\n",
      "\n",
      ">>> CA ENCODER :{'strategy': 'label_encoding'}\n",
      "\n",
      ">>> ESTIMATOR :{'num_leaves': 31, 'reg_alpha': 0, 'subsample_for_bin': 50000, 'colsample_bytree': 0.8, 'silent': True, 'max_depth': -1, 'learning_rate': 0.05, 'nthread': -1, 'min_child_weight': 5, 'strategy': 'LightGBM', 'n_estimators': 500, 'subsample': 0.9, 'reg_lambda': 0, 'subsample_freq': 1, 'max_bin': 255, 'objective': 'binary', 'min_split_gain': 0, 'seed': 0, 'min_child_samples': 10, 'boosting_type': 'gbdt'}\n",
      "\n",
      "\n",
      "MEAN SCORE : accuracy = 0.805852269864\n",
      "VARIANCE : 0.0143724492367 (fold 1 = 0.791479820628, fold 2 = 0.820224719101)\n",
      "CPU time: 0.459813117981 seconds\n",
      "\n"
     ]
    },
    {
     "data": {
      "text/plain": [
       "0.80585226986446312"
      ]
     },
     "execution_count": 6,
     "metadata": {},
     "output_type": "execute_result"
    }
   ],
   "source": [
    "opt.evaluate(None, df)"
   ]
  },
  {
   "cell_type": "code",
   "execution_count": 7,
   "metadata": {
    "scrolled": true
   },
   "outputs": [
    {
     "name": "stdout",
     "output_type": "stream",
     "text": [
      "\n",
      "##################################################### testing hyper-parameters... ############################################################\n",
      "\n",
      ">>> NA ENCODER :{'numerical_strategy': 0, 'categorical_strategy': '<NULL>'}\n",
      "\n",
      ">>> CA ENCODER :{'strategy': 'entity_embedding'}\n",
      "\n",
      ">>> FEATURE SELECTOR :{'threshold': 0.03772633601508346, 'strategy': 'l1'}\n",
      "\n",
      ">>> ESTIMATOR :{'num_leaves': 31, 'reg_alpha': 0, 'subsample_for_bin': 50000, 'colsample_bytree': 0.8, 'silent': True, 'learning_rate': 0.05, 'nthread': -1, 'min_child_weight': 5, 'strategy': 'LightGBM', 'n_estimators': 500, 'subsample': 0.9, 'reg_lambda': 0, 'subsample_freq': 1, 'min_child_samples': 10, 'max_bin': 255, 'objective': 'binary', 'min_split_gain': 0, 'seed': 0, 'max_depth': 7, 'boosting_type': 'gbdt'}\n",
      "\n"
     ]
    },
    {
     "name": "stderr",
     "output_type": "stream",
     "text": [
      "/home/datageek/anaconda2/lib/python2.7/site-packages/sklearn/linear_model/logistic.py:1228: UserWarning: 'n_jobs' > 1 does not have any effect when 'solver' is set to 'liblinear'. Got 'n_jobs' = -1.\n",
      "  \" = {}.\".format(self.n_jobs))\n"
     ]
    },
    {
     "name": "stdout",
     "output_type": "stream",
     "text": [
      "\n",
      "MEAN SCORE : accuracy = 0.79913085101\n",
      "VARIANCE : 0.0255882501134 (fold 1 = 0.773542600897, fold 2 = 0.824719101124)\n",
      "CPU time: 15.8122220039 seconds\n",
      "\n",
      "\n",
      "##################################################### testing hyper-parameters... ############################################################\n",
      "\n",
      ">>> NA ENCODER :{'numerical_strategy': 0, 'categorical_strategy': '<NULL>'}\n",
      "\n",
      ">>> CA ENCODER :{'strategy': 'label_encoding'}\n",
      "\n",
      ">>> FEATURE SELECTOR :{'threshold': 0.21609433810147677, 'strategy': 'l1'}\n",
      "\n",
      ">>> ESTIMATOR :{'num_leaves': 31, 'reg_alpha': 0, 'subsample_for_bin': 50000, 'colsample_bytree': 0.8, 'silent': True, 'learning_rate': 0.05, 'nthread': -1, 'min_child_weight': 5, 'strategy': 'LightGBM', 'n_estimators': 500, 'subsample': 0.9, 'reg_lambda': 0, 'subsample_freq': 1, 'min_child_samples': 10, 'max_bin': 255, 'objective': 'binary', 'min_split_gain': 0, 'seed': 0, 'max_depth': 4, 'boosting_type': 'gbdt'}\n",
      "\n",
      "\n",
      "MEAN SCORE : accuracy = 0.810323978435\n",
      "VARIANCE : 0.00133521439008 (fold 1 = 0.811659192825, fold 2 = 0.808988764045)\n",
      "CPU time: 0.375478029251 seconds\n",
      "\n",
      "\n",
      "##################################################### testing hyper-parameters... ############################################################\n",
      "\n",
      ">>> NA ENCODER :{'numerical_strategy': 0, 'categorical_strategy': '<NULL>'}\n",
      "\n",
      ">>> CA ENCODER :{'strategy': 'label_encoding'}\n",
      "\n",
      ">>> FEATURE SELECTOR :{'threshold': 0.2735106877969707, 'strategy': 'l1'}\n",
      "\n",
      ">>> ESTIMATOR :{'num_leaves': 31, 'reg_alpha': 0, 'subsample_for_bin': 50000, 'colsample_bytree': 0.8, 'silent': True, 'learning_rate': 0.05, 'nthread': -1, 'min_child_weight': 5, 'strategy': 'LightGBM', 'n_estimators': 500, 'subsample': 0.9, 'reg_lambda': 0, 'subsample_freq': 1, 'min_child_samples': 10, 'max_bin': 255, 'objective': 'binary', 'min_split_gain': 0, 'seed': 0, 'max_depth': 3, 'boosting_type': 'gbdt'}\n",
      "\n",
      "\n",
      "MEAN SCORE : accuracy = 0.81481080264\n",
      "VARIANCE : 0.00357484758402 (fold 1 = 0.818385650224, fold 2 = 0.811235955056)\n",
      "CPU time: 0.213459014893 seconds\n",
      "\n",
      "\n",
      "##################################################### testing hyper-parameters... ############################################################\n",
      "\n",
      ">>> NA ENCODER :{'numerical_strategy': 0, 'categorical_strategy': '<NULL>'}\n",
      "\n",
      ">>> CA ENCODER :{'strategy': 'random_projection'}\n",
      "\n",
      ">>> FEATURE SELECTOR :{'threshold': 0.04150782128654777, 'strategy': 'l1'}\n",
      "\n",
      ">>> ESTIMATOR :{'num_leaves': 31, 'reg_alpha': 0, 'subsample_for_bin': 50000, 'colsample_bytree': 0.8, 'silent': True, 'learning_rate': 0.05, 'nthread': -1, 'min_child_weight': 5, 'strategy': 'LightGBM', 'n_estimators': 500, 'subsample': 0.9, 'reg_lambda': 0, 'subsample_freq': 1, 'min_child_samples': 10, 'max_bin': 255, 'objective': 'binary', 'min_split_gain': 0, 'seed': 0, 'max_depth': 5, 'boosting_type': 'gbdt'}\n",
      "\n",
      "\n",
      "MEAN SCORE : accuracy = 0.815939436691\n",
      "VARIANCE : 0.0020380913992 (fold 1 = 0.813901345291, fold 2 = 0.81797752809)\n",
      "CPU time: 0.165353059769 seconds\n",
      "\n",
      "\n",
      "##################################################### testing hyper-parameters... ############################################################\n",
      "\n",
      ">>> NA ENCODER :{'numerical_strategy': 0, 'categorical_strategy': '<NULL>'}\n",
      "\n",
      ">>> CA ENCODER :{'strategy': 'random_projection'}\n",
      "\n",
      ">>> FEATURE SELECTOR :{'threshold': 0.10187522490783114, 'strategy': 'l1'}\n",
      "\n",
      ">>> ESTIMATOR :{'num_leaves': 31, 'reg_alpha': 0, 'subsample_for_bin': 50000, 'colsample_bytree': 0.8, 'silent': True, 'learning_rate': 0.05, 'nthread': -1, 'min_child_weight': 5, 'strategy': 'LightGBM', 'n_estimators': 500, 'subsample': 0.9, 'reg_lambda': 0, 'subsample_freq': 1, 'min_child_samples': 10, 'max_bin': 255, 'objective': 'binary', 'min_split_gain': 0, 'seed': 0, 'max_depth': 6, 'boosting_type': 'gbdt'}\n",
      "\n",
      "\n",
      "MEAN SCORE : accuracy = 0.812571169446\n",
      "VARIANCE : 0.000911976621152 (fold 1 = 0.811659192825, fold 2 = 0.813483146067)\n",
      "CPU time: 0.422271966934 seconds\n",
      "\n",
      "\n",
      "##################################################### testing hyper-parameters... ############################################################\n",
      "\n",
      ">>> NA ENCODER :{'numerical_strategy': 0, 'categorical_strategy': '<NULL>'}\n",
      "\n",
      ">>> CA ENCODER :{'strategy': 'entity_embedding'}\n",
      "\n",
      ">>> FEATURE SELECTOR :{'threshold': 0.26364990659095533, 'strategy': 'l1'}\n",
      "\n",
      ">>> ESTIMATOR :{'num_leaves': 31, 'reg_alpha': 0, 'subsample_for_bin': 50000, 'colsample_bytree': 0.8, 'silent': True, 'learning_rate': 0.05, 'nthread': -1, 'min_child_weight': 5, 'strategy': 'LightGBM', 'n_estimators': 500, 'subsample': 0.9, 'reg_lambda': 0, 'subsample_freq': 1, 'min_child_samples': 10, 'max_bin': 255, 'objective': 'binary', 'min_split_gain': 0, 'seed': 0, 'max_depth': 3, 'boosting_type': 'gbdt'}\n",
      "\n",
      "\n",
      "MEAN SCORE : accuracy = 0.802489041165\n",
      "VARIANCE : 0.0177356779362 (fold 1 = 0.784753363229, fold 2 = 0.820224719101)\n",
      "CPU time: 1.4863038063 seconds\n",
      "\n",
      "\n",
      "##################################################### testing hyper-parameters... ############################################################\n",
      "\n",
      ">>> NA ENCODER :{'numerical_strategy': 0, 'categorical_strategy': '<NULL>'}\n",
      "\n",
      ">>> CA ENCODER :{'strategy': 'label_encoding'}\n",
      "\n",
      ">>> FEATURE SELECTOR :{'threshold': 0.07317027957877748, 'strategy': 'l1'}\n",
      "\n",
      ">>> ESTIMATOR :{'num_leaves': 31, 'reg_alpha': 0, 'subsample_for_bin': 50000, 'colsample_bytree': 0.8, 'silent': True, 'learning_rate': 0.05, 'nthread': -1, 'min_child_weight': 5, 'strategy': 'LightGBM', 'n_estimators': 500, 'subsample': 0.9, 'reg_lambda': 0, 'subsample_freq': 1, 'min_child_samples': 10, 'max_bin': 255, 'objective': 'binary', 'min_split_gain': 0, 'seed': 0, 'max_depth': 6, 'boosting_type': 'gbdt'}\n",
      "\n",
      "\n",
      "MEAN SCORE : accuracy = 0.80696578828\n",
      "VARIANCE : 0.00651735778707 (fold 1 = 0.800448430493, fold 2 = 0.813483146067)\n",
      "CPU time: 0.193270921707 seconds\n",
      "\n",
      "\n",
      "##################################################### testing hyper-parameters... ############################################################\n",
      "\n",
      ">>> NA ENCODER :{'numerical_strategy': 0, 'categorical_strategy': '<NULL>'}\n",
      "\n",
      ">>> CA ENCODER :{'strategy': 'random_projection'}\n",
      "\n",
      ">>> FEATURE SELECTOR :{'threshold': 0.21185307928105424, 'strategy': 'l1'}\n",
      "\n",
      ">>> ESTIMATOR :{'num_leaves': 31, 'reg_alpha': 0, 'subsample_for_bin': 50000, 'colsample_bytree': 0.8, 'silent': True, 'learning_rate': 0.05, 'nthread': -1, 'min_child_weight': 5, 'strategy': 'LightGBM', 'n_estimators': 500, 'subsample': 0.9, 'reg_lambda': 0, 'subsample_freq': 1, 'min_child_samples': 10, 'max_bin': 255, 'objective': 'binary', 'min_split_gain': 0, 'seed': 0, 'max_depth': 4, 'boosting_type': 'gbdt'}\n",
      "\n",
      "\n",
      "MEAN SCORE : accuracy = 0.820428780168\n",
      "VARIANCE : 0.00204312994407 (fold 1 = 0.818385650224, fold 2 = 0.822471910112)\n",
      "CPU time: 0.174698829651 seconds\n",
      "\n",
      "\n",
      "##################################################### testing hyper-parameters... ############################################################\n",
      "\n",
      ">>> NA ENCODER :{'numerical_strategy': 0, 'categorical_strategy': '<NULL>'}\n",
      "\n",
      ">>> CA ENCODER :{'strategy': 'random_projection'}\n",
      "\n",
      ">>> FEATURE SELECTOR :{'threshold': 0.05117231743796321, 'strategy': 'l1'}\n",
      "\n",
      ">>> ESTIMATOR :{'num_leaves': 31, 'reg_alpha': 0, 'subsample_for_bin': 50000, 'colsample_bytree': 0.8, 'silent': True, 'learning_rate': 0.05, 'nthread': -1, 'min_child_weight': 5, 'strategy': 'LightGBM', 'n_estimators': 500, 'subsample': 0.9, 'reg_lambda': 0, 'subsample_freq': 1, 'min_child_samples': 10, 'max_bin': 255, 'objective': 'binary', 'min_split_gain': 0, 'seed': 0, 'max_depth': 6, 'boosting_type': 'gbdt'}\n",
      "\n",
      "\n",
      "MEAN SCORE : accuracy = 0.812571169446\n",
      "VARIANCE : 0.000911976621152 (fold 1 = 0.811659192825, fold 2 = 0.813483146067)\n",
      "CPU time: 0.484838008881 seconds\n",
      "\n",
      "\n",
      "##################################################### testing hyper-parameters... ############################################################\n",
      "\n",
      ">>> NA ENCODER :{'numerical_strategy': 0, 'categorical_strategy': '<NULL>'}\n",
      "\n",
      ">>> CA ENCODER :{'strategy': 'entity_embedding'}\n",
      "\n",
      ">>> FEATURE SELECTOR :{'threshold': 0.24320960320094848, 'strategy': 'l1'}\n",
      "\n",
      ">>> ESTIMATOR :{'num_leaves': 31, 'reg_alpha': 0, 'subsample_for_bin': 50000, 'colsample_bytree': 0.8, 'silent': True, 'learning_rate': 0.05, 'nthread': -1, 'min_child_weight': 5, 'strategy': 'LightGBM', 'n_estimators': 500, 'subsample': 0.9, 'reg_lambda': 0, 'subsample_freq': 1, 'min_child_samples': 10, 'max_bin': 255, 'objective': 'binary', 'min_split_gain': 0, 'seed': 0, 'max_depth': 6, 'boosting_type': 'gbdt'}\n",
      "\n"
     ]
    },
    {
     "name": "stdout",
     "output_type": "stream",
     "text": [
      "\n",
      "MEAN SCORE : accuracy = 0.795760064493\n",
      "VARIANCE : 0.0222174635965 (fold 1 = 0.773542600897, fold 2 = 0.81797752809)\n",
      "CPU time: 1.3038790226 seconds\n",
      "\n",
      "\n",
      "##################################################### testing hyper-parameters... ############################################################\n",
      "\n",
      ">>> NA ENCODER :{'numerical_strategy': 0, 'categorical_strategy': '<NULL>'}\n",
      "\n",
      ">>> CA ENCODER :{'strategy': 'label_encoding'}\n",
      "\n",
      ">>> FEATURE SELECTOR :{'threshold': 0.02461533576310166, 'strategy': 'l1'}\n",
      "\n",
      ">>> ESTIMATOR :{'num_leaves': 31, 'reg_alpha': 0, 'subsample_for_bin': 50000, 'colsample_bytree': 0.8, 'silent': True, 'learning_rate': 0.05, 'nthread': -1, 'min_child_weight': 5, 'strategy': 'LightGBM', 'n_estimators': 500, 'subsample': 0.9, 'reg_lambda': 0, 'subsample_freq': 1, 'min_child_samples': 10, 'max_bin': 255, 'objective': 'binary', 'min_split_gain': 0, 'seed': 0, 'max_depth': 5, 'boosting_type': 'gbdt'}\n",
      "\n",
      "\n",
      "MEAN SCORE : accuracy = 0.805842192775\n",
      "VARIANCE : 0.00539376228145 (fold 1 = 0.800448430493, fold 2 = 0.811235955056)\n",
      "CPU time: 0.188453912735 seconds\n",
      "\n",
      "\n",
      "##################################################### testing hyper-parameters... ############################################################\n",
      "\n",
      ">>> NA ENCODER :{'numerical_strategy': 0, 'categorical_strategy': '<NULL>'}\n",
      "\n",
      ">>> CA ENCODER :{'strategy': 'label_encoding'}\n",
      "\n",
      ">>> FEATURE SELECTOR :{'threshold': 0.2561323509050695, 'strategy': 'l1'}\n",
      "\n",
      ">>> ESTIMATOR :{'num_leaves': 31, 'reg_alpha': 0, 'subsample_for_bin': 50000, 'colsample_bytree': 0.8, 'silent': True, 'learning_rate': 0.05, 'nthread': -1, 'min_child_weight': 5, 'strategy': 'LightGBM', 'n_estimators': 500, 'subsample': 0.9, 'reg_lambda': 0, 'subsample_freq': 1, 'min_child_samples': 10, 'max_bin': 255, 'objective': 'binary', 'min_split_gain': 0, 'seed': 0, 'max_depth': 5, 'boosting_type': 'gbdt'}\n",
      "\n",
      "\n",
      "MEAN SCORE : accuracy = 0.805842192775\n",
      "VARIANCE : 0.00539376228145 (fold 1 = 0.800448430493, fold 2 = 0.811235955056)\n",
      "CPU time: 0.346832990646 seconds\n",
      "\n",
      "\n",
      "##################################################### testing hyper-parameters... ############################################################\n",
      "\n",
      ">>> NA ENCODER :{'numerical_strategy': 0, 'categorical_strategy': '<NULL>'}\n",
      "\n",
      ">>> CA ENCODER :{'strategy': 'entity_embedding'}\n",
      "\n",
      ">>> FEATURE SELECTOR :{'threshold': 0.16993855012616024, 'strategy': 'l1'}\n",
      "\n",
      ">>> ESTIMATOR :{'num_leaves': 31, 'reg_alpha': 0, 'subsample_for_bin': 50000, 'colsample_bytree': 0.8, 'silent': True, 'learning_rate': 0.05, 'nthread': -1, 'min_child_weight': 5, 'strategy': 'LightGBM', 'n_estimators': 500, 'subsample': 0.9, 'reg_lambda': 0, 'subsample_freq': 1, 'min_child_samples': 10, 'max_bin': 255, 'objective': 'binary', 'min_split_gain': 0, 'seed': 0, 'max_depth': 7, 'boosting_type': 'gbdt'}\n",
      "\n",
      "\n",
      "MEAN SCORE : accuracy = 0.79913085101\n",
      "VARIANCE : 0.0255882501134 (fold 1 = 0.773542600897, fold 2 = 0.824719101124)\n",
      "CPU time: 3.67081093788 seconds\n",
      "\n",
      "\n",
      "##################################################### testing hyper-parameters... ############################################################\n",
      "\n",
      ">>> NA ENCODER :{'numerical_strategy': 0, 'categorical_strategy': '<NULL>'}\n",
      "\n",
      ">>> CA ENCODER :{'strategy': 'entity_embedding'}\n",
      "\n",
      ">>> FEATURE SELECTOR :{'threshold': 0.07486510633751546, 'strategy': 'l1'}\n",
      "\n",
      ">>> ESTIMATOR :{'num_leaves': 31, 'reg_alpha': 0, 'subsample_for_bin': 50000, 'colsample_bytree': 0.8, 'silent': True, 'learning_rate': 0.05, 'nthread': -1, 'min_child_weight': 5, 'strategy': 'LightGBM', 'n_estimators': 500, 'subsample': 0.9, 'reg_lambda': 0, 'subsample_freq': 1, 'min_child_samples': 10, 'max_bin': 255, 'objective': 'binary', 'min_split_gain': 0, 'seed': 0, 'max_depth': 3, 'boosting_type': 'gbdt'}\n",
      "\n",
      "\n",
      "MEAN SCORE : accuracy = 0.802489041165\n",
      "VARIANCE : 0.0177356779362 (fold 1 = 0.784753363229, fold 2 = 0.820224719101)\n",
      "CPU time: 1.24711298943 seconds\n",
      "\n",
      "\n",
      "##################################################### testing hyper-parameters... ############################################################\n",
      "\n",
      ">>> NA ENCODER :{'numerical_strategy': 0, 'categorical_strategy': '<NULL>'}\n",
      "\n",
      ">>> CA ENCODER :{'strategy': 'random_projection'}\n",
      "\n",
      ">>> FEATURE SELECTOR :{'threshold': 0.10061251806768673, 'strategy': 'l1'}\n",
      "\n",
      ">>> ESTIMATOR :{'num_leaves': 31, 'reg_alpha': 0, 'subsample_for_bin': 50000, 'colsample_bytree': 0.8, 'silent': True, 'learning_rate': 0.05, 'nthread': -1, 'min_child_weight': 5, 'strategy': 'LightGBM', 'n_estimators': 500, 'subsample': 0.9, 'reg_lambda': 0, 'subsample_freq': 1, 'min_child_samples': 10, 'max_bin': 255, 'objective': 'binary', 'min_split_gain': 0, 'seed': 0, 'max_depth': 4, 'boosting_type': 'gbdt'}\n",
      "\n",
      "\n",
      "MEAN SCORE : accuracy = 0.820428780168\n",
      "VARIANCE : 0.00204312994407 (fold 1 = 0.818385650224, fold 2 = 0.822471910112)\n",
      "CPU time: 0.294142007828 seconds\n",
      "\n",
      "\n",
      "\n",
      "~~~~~~~~~~~~~~~~~~~~~~~~~~~~~~~~~~~~~~~~~~~~~~~~~~~~~~~~~~~~~~~~~~~~~~~~~~~~~~~~~~~~~~~~~~~~~~~~~~~~~~~~~~~~~~~~~~~~~~~~~~~~~~~~~~~~~~~~~\n",
      "~~~~~~~~~~~~~~~~~~~~~~~~~~~~~~~~~~~~~~~~~~~~~~~~~~~~~~~~ BEST HYPER-PARAMETERS ~~~~~~~~~~~~~~~~~~~~~~~~~~~~~~~~~~~~~~~~~~~~~~~~~~~~~~~~~~\n",
      "~~~~~~~~~~~~~~~~~~~~~~~~~~~~~~~~~~~~~~~~~~~~~~~~~~~~~~~~~~~~~~~~~~~~~~~~~~~~~~~~~~~~~~~~~~~~~~~~~~~~~~~~~~~~~~~~~~~~~~~~~~~~~~~~~~~~~~~~~\n",
      "\n",
      "{'est__max_depth': 4, 'fs__threshold': 0.21185307928105424, 'ce__strategy': 'random_projection', 'ne__numerical_strategy': 0}\n"
     ]
    }
   ],
   "source": [
    "space = {\n",
    "    \n",
    "        'ne__numerical_strategy':{\"search\":\"choice\",\n",
    "                                 \"space\":[0]},\n",
    "        'ce__strategy':{\"search\":\"choice\",\n",
    "                        \"space\":[\"label_encoding\",\"random_projection\", \"entity_embedding\"]}, \n",
    "        'fs__threshold':{\"search\":\"uniform\",\n",
    "                        \"space\":[0.01,0.3]},    \n",
    "        'est__max_depth':{\"search\":\"choice\",\n",
    "                                  \"space\":[3,4,5,6,7]}\n",
    "    \n",
    "        }\n",
    "\n",
    "best = opt.optimise(space, df,15)"
   ]
  },
  {
   "cell_type": "code",
   "execution_count": 8,
   "metadata": {},
   "outputs": [
    {
     "name": "stdout",
     "output_type": "stream",
     "text": [
      "\n",
      "fitting the pipeline...\n",
      "CPU time: 0.116570949554 seconds\n",
      "\n",
      "predicting...\n",
      "CPU time: 0.0668470859528 seconds\n",
      "\n",
      "top 10 predictions :\n",
      "\n",
      "        0.0       1.0  Survived_predicted\n",
      "0  0.940144  0.059856                   0\n",
      "1  0.910441  0.089559                   0\n",
      "2  0.904833  0.095167                   0\n",
      "3  0.801182  0.198818                   0\n",
      "4  0.743644  0.256356                   0\n",
      "5  0.664844  0.335156                   0\n",
      "6  0.576135  0.423865                   0\n",
      "7  0.912056  0.087944                   0\n",
      "8  0.194031  0.805969                   1\n",
      "9  0.981469  0.018531                   0\n",
      "\n",
      "dumping predictions into directory : save\n"
     ]
    },
    {
     "data": {
      "text/plain": [
       "<mlbox.prediction.predictor.Predictor instance at 0x7f30100dd170>"
      ]
     },
     "execution_count": 8,
     "metadata": {},
     "output_type": "execute_result"
    }
   ],
   "source": [
    "prd = Predictor()\n",
    "prd.fit_predict(best,df)"
   ]
  }
 ],
 "metadata": {
  "kernelspec": {
   "display_name": "Python 2",
   "language": "python",
   "name": "python2"
  },
  "language_info": {
   "codemirror_mode": {
    "name": "ipython",
    "version": 2
   },
   "file_extension": ".py",
   "mimetype": "text/x-python",
   "name": "python",
   "nbconvert_exporter": "python",
   "pygments_lexer": "ipython2",
   "version": "2.7.11"
  }
 },
 "nbformat": 4,
 "nbformat_minor": 1
}
