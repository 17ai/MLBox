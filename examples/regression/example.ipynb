{
 "cells": [
  {
   "cell_type": "markdown",
   "metadata": {},
   "source": [
    "# importing the MLBox"
   ]
  },
  {
   "cell_type": "code",
   "execution_count": 1,
   "metadata": {
    "scrolled": true
   },
   "outputs": [
    {
     "name": "stderr",
     "output_type": "stream",
     "text": [
      "/home/datageek/anaconda2/lib/python2.7/site-packages/mlbox/preprocessing/drift/__init__.py:9: UserWarning: ipCluster is starting. Please wait 30 sec and check in terminal that 'the engines appear to have started successfully'.\n",
      "  warnings.warn(\"ipCluster is starting. Please wait 30 sec and check in terminal that 'the engines appear to have started successfully'.\")\n",
      "Using Theano backend.\n",
      "/home/datageek/anaconda2/lib/python2.7/site-packages/sklearn/cross_validation.py:41: DeprecationWarning: This module was deprecated in version 0.18 in favor of the model_selection module into which all the refactored classes and functions are moved. Also note that the interface of the new CV iterators are different from that of this module. This module will be removed in 0.20.\n",
      "  \"This module will be removed in 0.20.\", DeprecationWarning)\n"
     ]
    }
   ],
   "source": [
    "from mlbox.preprocessing import *\n",
    "from mlbox.optimisation import *\n",
    "from mlbox.prediction import *"
   ]
  },
  {
   "cell_type": "code",
   "execution_count": 2,
   "metadata": {
    "collapsed": true
   },
   "outputs": [],
   "source": [
    "paths = [\"train.csv\",\"test.csv\"]\n",
    "target_name = \"SalePrice\""
   ]
  },
  {
   "cell_type": "markdown",
   "metadata": {},
   "source": [
    "# reading and cleaning all files "
   ]
  },
  {
   "cell_type": "code",
   "execution_count": 3,
   "metadata": {
    "scrolled": true
   },
   "outputs": [
    {
     "name": "stdout",
     "output_type": "stream",
     "text": [
      "\n",
      "reading csv : train.csv ...\n",
      "cleaning data...\n",
      "CPU time: 0.323591947556 seconds\n",
      "\n",
      "reading csv : test.csv ...\n",
      "cleaning data...\n",
      "CPU time: 0.171083211899 seconds\n",
      "\n",
      "number of common features : 80\n",
      "\n",
      "gathering and crunching for train and test datasets\n",
      "reindexing for train and test datasets\n",
      "dropping training duplicates\n",
      "dropping constant variables on training set\n",
      "\n",
      "number of categorical features : 43\n",
      "number of numerical features : 37\n",
      "number of training samples : 1460\n",
      "number of test samples : 1459\n",
      "\n",
      "Top sparse features (% missing values on train set):\n",
      "PoolQC         99.5\n",
      "MiscFeature    96.3\n",
      "Alley          93.8\n",
      "Fence          80.8\n",
      "FireplaceQu    47.3\n",
      "dtype: float64\n",
      "\n",
      "task : regression\n"
     ]
    }
   ],
   "source": [
    "rd = Reader(sep = ',')\n",
    "df = rd.train_test_split(paths, target_name)"
   ]
  },
  {
   "cell_type": "code",
   "execution_count": 4,
   "metadata": {
    "scrolled": false
   },
   "outputs": [
    {
     "name": "stdout",
     "output_type": "stream",
     "text": [
      "\n",
      "computing drifts...\n",
      "CPU time: 1.03511095047 seconds\n",
      "\n",
      "Top 10 drifts\n",
      "\n",
      "('Id', 0.9996570644718793)\n",
      "('GarageYrBlt', 0.52930157759352303)\n",
      "('Exterior1st', 0.52586411001119482)\n",
      "('TotalBsmtSF', 0.52389869237891595)\n",
      "('2ndFlrSF', 0.52123329243075833)\n",
      "('Exterior2nd', 0.52107292808122652)\n",
      "('BsmtFullBath', 0.52018890605818879)\n",
      "('GrLivArea', 0.5197186371334116)\n",
      "('TotRmsAbvGrd', 0.5194699326175769)\n",
      "('WoodDeckSF', 0.51865392689173118)\n",
      "\n",
      "deleted variables : ['Id']\n",
      "\n",
      "dumping drift coefficients into directory : save\n",
      "drift coefficients dumped\n"
     ]
    }
   ],
   "source": [
    "dft = Drift_thresholder()\n",
    "df = dft.fit_transform(df)"
   ]
  },
  {
   "cell_type": "markdown",
   "metadata": {},
   "source": [
    "# tuning"
   ]
  },
  {
   "cell_type": "code",
   "execution_count": 5,
   "metadata": {
    "collapsed": true
   },
   "outputs": [],
   "source": [
    "mape = make_scorer(lambda y_true, y_pred: 100*np.sum(np.abs(y_true-y_pred)/y_true)/len(y_true), greater_is_better=False, needs_proba=False)\n",
    "opt = Optimiser(scoring = mape, n_folds = 3)"
   ]
  },
  {
   "cell_type": "code",
   "execution_count": 6,
   "metadata": {},
   "outputs": [
    {
     "name": "stdout",
     "output_type": "stream",
     "text": [
      "No parameters set. Default configuration is tested\n",
      "\n",
      "##################################################### testing hyper-parameters... ############################################################\n",
      "\n",
      ">>> NA ENCODER :{'numerical_strategy': 'mean', 'categorical_strategy': '<NULL>'}\n",
      "\n",
      ">>> CA ENCODER :{'strategy': 'label_encoding'}\n",
      "\n",
      ">>> ESTIMATOR :{'num_leaves': 31, 'reg_alpha': 0, 'subsample_for_bin': 50000, 'colsample_bytree': 0.8, 'silent': True, 'max_depth': -1, 'learning_rate': 0.05, 'nthread': -1, 'min_child_weight': 5, 'strategy': 'LightGBM', 'n_estimators': 500, 'subsample': 0.9, 'reg_lambda': 0, 'subsample_freq': 1, 'max_bin': 255, 'objective': 'regression', 'min_split_gain': 0, 'seed': 0, 'min_child_samples': 10, 'boosting_type': 'gbdt'}\n",
      "\n",
      "\n",
      "MEAN SCORE : make_scorer(<lambda>, greater_is_better=False) = -16.5501726299\n",
      "VARIANCE : 2.00925690187 (fold 1 = -19.3633082808, fold 2 = -15.4905497623, fold 3 = -14.7966598466)\n",
      "CPU time: 8.19659590721 seconds\n",
      "\n"
     ]
    },
    {
     "data": {
      "text/plain": [
       "-16.550172629917437"
      ]
     },
     "execution_count": 6,
     "metadata": {},
     "output_type": "execute_result"
    }
   ],
   "source": [
    "opt.evaluate(None, df)"
   ]
  },
  {
   "cell_type": "code",
   "execution_count": 7,
   "metadata": {
    "scrolled": true
   },
   "outputs": [
    {
     "name": "stdout",
     "output_type": "stream",
     "text": [
      "\n",
      "##################################################### testing hyper-parameters... ############################################################\n",
      "\n",
      ">>> NA ENCODER :{'numerical_strategy': 0, 'categorical_strategy': '<NULL>'}\n",
      "\n",
      ">>> CA ENCODER :{'strategy': 'entity_embedding'}\n",
      "\n",
      ">>> FEATURE SELECTOR :{'threshold': 0.26531787335967333, 'strategy': 'l1'}\n",
      "\n",
      ">>> ESTIMATOR :{'num_leaves': 31, 'reg_alpha': 0, 'subsample_for_bin': 50000, 'colsample_bytree': 0.8, 'silent': True, 'learning_rate': 0.05, 'nthread': -1, 'min_child_weight': 5, 'strategy': 'LightGBM', 'n_estimators': 500, 'subsample': 0.9, 'reg_lambda': 0, 'subsample_freq': 1, 'min_child_samples': 10, 'max_bin': 255, 'objective': 'regression', 'min_split_gain': 0, 'seed': 0, 'max_depth': 7, 'boosting_type': 'gbdt'}\n",
      "\n"
     ]
    },
    {
     "name": "stderr",
     "output_type": "stream",
     "text": [
      "/home/datageek/anaconda2/lib/python2.7/site-packages/sklearn/linear_model/coordinate_descent.py:491: ConvergenceWarning: Objective did not converge. You might want to increase the number of iterations. Fitting data with very small alpha may cause precision problems.\n",
      "  ConvergenceWarning)\n"
     ]
    },
    {
     "name": "stdout",
     "output_type": "stream",
     "text": [
      "\n",
      "MEAN SCORE : make_scorer(<lambda>, greater_is_better=False) = -16.6000539505\n",
      "VARIANCE : 1.95777785425 (fold 1 = -19.3293323726, fold 2 = -15.6386772607, fold 3 = -14.8321522183)\n",
      "CPU time: 20.9097988605 seconds\n",
      "\n",
      "\n",
      "##################################################### testing hyper-parameters... ############################################################\n",
      "\n",
      ">>> NA ENCODER :{'numerical_strategy': 0, 'categorical_strategy': '<NULL>'}\n",
      "\n",
      ">>> CA ENCODER :{'strategy': 'label_encoding'}\n",
      "\n",
      ">>> FEATURE SELECTOR :{'threshold': 0.13175844100915654, 'strategy': 'l1'}\n",
      "\n",
      ">>> ESTIMATOR :{'num_leaves': 31, 'reg_alpha': 0, 'subsample_for_bin': 50000, 'colsample_bytree': 0.8, 'silent': True, 'learning_rate': 0.05, 'nthread': -1, 'min_child_weight': 5, 'strategy': 'LightGBM', 'n_estimators': 500, 'subsample': 0.9, 'reg_lambda': 0, 'subsample_freq': 1, 'min_child_samples': 10, 'max_bin': 255, 'objective': 'regression', 'min_split_gain': 0, 'seed': 0, 'max_depth': 7, 'boosting_type': 'gbdt'}\n",
      "\n",
      "\n",
      "MEAN SCORE : make_scorer(<lambda>, greater_is_better=False) = -16.7209797793\n",
      "VARIANCE : 1.9746131838 (fold 1 = -19.4750395812, fold 2 = -15.743964621, fold 3 = -14.9439351358)\n",
      "CPU time: 14.0966179371 seconds\n",
      "\n",
      "\n",
      "##################################################### testing hyper-parameters... ############################################################\n",
      "\n",
      ">>> NA ENCODER :{'numerical_strategy': 0, 'categorical_strategy': '<NULL>'}\n",
      "\n",
      ">>> CA ENCODER :{'strategy': 'random_projection'}\n",
      "\n",
      ">>> FEATURE SELECTOR :{'threshold': 0.16095758485199477, 'strategy': 'l1'}\n",
      "\n",
      ">>> ESTIMATOR :{'num_leaves': 31, 'reg_alpha': 0, 'subsample_for_bin': 50000, 'colsample_bytree': 0.8, 'silent': True, 'learning_rate': 0.05, 'nthread': -1, 'min_child_weight': 5, 'strategy': 'LightGBM', 'n_estimators': 500, 'subsample': 0.9, 'reg_lambda': 0, 'subsample_freq': 1, 'min_child_samples': 10, 'max_bin': 255, 'objective': 'regression', 'min_split_gain': 0, 'seed': 0, 'max_depth': 7, 'boosting_type': 'gbdt'}\n",
      "\n",
      "\n",
      "MEAN SCORE : make_scorer(<lambda>, greater_is_better=False) = -16.7411955912\n",
      "VARIANCE : 1.94209030738 (fold 1 = -19.442456869, fold 2 = -15.8206379398, fold 3 = -14.9604919647)\n",
      "CPU time: 12.0461750031 seconds\n",
      "\n",
      "\n",
      "##################################################### testing hyper-parameters... ############################################################\n",
      "\n",
      ">>> NA ENCODER :{'numerical_strategy': 0, 'categorical_strategy': '<NULL>'}\n",
      "\n",
      ">>> CA ENCODER :{'strategy': 'label_encoding'}\n",
      "\n",
      ">>> FEATURE SELECTOR :{'threshold': 0.1690604826166557, 'strategy': 'l1'}\n",
      "\n",
      ">>> ESTIMATOR :{'num_leaves': 31, 'reg_alpha': 0, 'subsample_for_bin': 50000, 'colsample_bytree': 0.8, 'silent': True, 'learning_rate': 0.05, 'nthread': -1, 'min_child_weight': 5, 'strategy': 'LightGBM', 'n_estimators': 500, 'subsample': 0.9, 'reg_lambda': 0, 'subsample_freq': 1, 'min_child_samples': 10, 'max_bin': 255, 'objective': 'regression', 'min_split_gain': 0, 'seed': 0, 'max_depth': 4, 'boosting_type': 'gbdt'}\n",
      "\n",
      "\n",
      "MEAN SCORE : make_scorer(<lambda>, greater_is_better=False) = -17.681131588\n",
      "VARIANCE : 1.8593271723 (fold 1 = -20.2926223217, fold 2 = -16.6413437576, fold 3 = -16.1094286847)\n",
      "CPU time: 5.11261701584 seconds\n",
      "\n",
      "\n",
      "##################################################### testing hyper-parameters... ############################################################\n",
      "\n",
      ">>> NA ENCODER :{'numerical_strategy': 0, 'categorical_strategy': '<NULL>'}\n",
      "\n",
      ">>> CA ENCODER :{'strategy': 'label_encoding'}\n",
      "\n",
      ">>> FEATURE SELECTOR :{'threshold': 0.28902069170034606, 'strategy': 'l1'}\n",
      "\n",
      ">>> ESTIMATOR :{'num_leaves': 31, 'reg_alpha': 0, 'subsample_for_bin': 50000, 'colsample_bytree': 0.8, 'silent': True, 'learning_rate': 0.05, 'nthread': -1, 'min_child_weight': 5, 'strategy': 'LightGBM', 'n_estimators': 500, 'subsample': 0.9, 'reg_lambda': 0, 'subsample_freq': 1, 'min_child_samples': 10, 'max_bin': 255, 'objective': 'regression', 'min_split_gain': 0, 'seed': 0, 'max_depth': 7, 'boosting_type': 'gbdt'}\n",
      "\n",
      "\n",
      "MEAN SCORE : make_scorer(<lambda>, greater_is_better=False) = -16.9223010563\n",
      "VARIANCE : 1.90948247289 (fold 1 = -19.588252867, fold 2 = -15.9617639763, fold 3 = -15.2168863256)\n",
      "CPU time: 99.6873571873 seconds\n",
      "\n",
      "\n",
      "##################################################### testing hyper-parameters... ############################################################\n",
      "\n",
      ">>> NA ENCODER :{'numerical_strategy': 0, 'categorical_strategy': '<NULL>'}\n",
      "\n",
      ">>> CA ENCODER :{'strategy': 'random_projection'}\n",
      "\n",
      ">>> FEATURE SELECTOR :{'threshold': 0.013270770781465801, 'strategy': 'l1'}\n",
      "\n",
      ">>> ESTIMATOR :{'num_leaves': 31, 'reg_alpha': 0, 'subsample_for_bin': 50000, 'colsample_bytree': 0.8, 'silent': True, 'learning_rate': 0.05, 'nthread': -1, 'min_child_weight': 5, 'strategy': 'LightGBM', 'n_estimators': 500, 'subsample': 0.9, 'reg_lambda': 0, 'subsample_freq': 1, 'min_child_samples': 10, 'max_bin': 255, 'objective': 'regression', 'min_split_gain': 0, 'seed': 0, 'max_depth': 4, 'boosting_type': 'gbdt'}\n",
      "\n",
      "\n",
      "MEAN SCORE : make_scorer(<lambda>, greater_is_better=False) = -17.4698127611\n",
      "VARIANCE : 1.90897143292 (fold 1 = -20.1510405046, fold 2 = -16.4021846732, fold 3 = -15.8562131055)\n",
      "CPU time: 176.167093992 seconds\n",
      "\n",
      "\n",
      "##################################################### testing hyper-parameters... ############################################################\n",
      "\n",
      ">>> NA ENCODER :{'numerical_strategy': 0, 'categorical_strategy': '<NULL>'}\n",
      "\n",
      ">>> CA ENCODER :{'strategy': 'random_projection'}\n",
      "\n",
      ">>> FEATURE SELECTOR :{'threshold': 0.2660690959005726, 'strategy': 'l1'}\n",
      "\n",
      ">>> ESTIMATOR :{'num_leaves': 31, 'reg_alpha': 0, 'subsample_for_bin': 50000, 'colsample_bytree': 0.8, 'silent': True, 'learning_rate': 0.05, 'nthread': -1, 'min_child_weight': 5, 'strategy': 'LightGBM', 'n_estimators': 500, 'subsample': 0.9, 'reg_lambda': 0, 'subsample_freq': 1, 'min_child_samples': 10, 'max_bin': 255, 'objective': 'regression', 'min_split_gain': 0, 'seed': 0, 'max_depth': 3, 'boosting_type': 'gbdt'}\n",
      "\n",
      "\n",
      "MEAN SCORE : make_scorer(<lambda>, greater_is_better=False) = -18.7686634273\n",
      "VARIANCE : 1.75576733894 (fold 1 = -21.2022062725, fold 2 = -17.9790691792, fold 3 = -17.1247148303)\n",
      "CPU time: 80.9460291862 seconds\n",
      "\n",
      "\n",
      "##################################################### testing hyper-parameters... ############################################################\n",
      "\n",
      ">>> NA ENCODER :{'numerical_strategy': 0, 'categorical_strategy': '<NULL>'}\n",
      "\n",
      ">>> CA ENCODER :{'strategy': 'label_encoding'}\n",
      "\n",
      ">>> FEATURE SELECTOR :{'threshold': 0.23404532411457915, 'strategy': 'l1'}\n",
      "\n",
      ">>> ESTIMATOR :{'num_leaves': 31, 'reg_alpha': 0, 'subsample_for_bin': 50000, 'colsample_bytree': 0.8, 'silent': True, 'learning_rate': 0.05, 'nthread': -1, 'min_child_weight': 5, 'strategy': 'LightGBM', 'n_estimators': 500, 'subsample': 0.9, 'reg_lambda': 0, 'subsample_freq': 1, 'min_child_samples': 10, 'max_bin': 255, 'objective': 'regression', 'min_split_gain': 0, 'seed': 0, 'max_depth': 6, 'boosting_type': 'gbdt'}\n",
      "\n",
      "\n",
      "MEAN SCORE : make_scorer(<lambda>, greater_is_better=False) = -16.9955982442\n",
      "VARIANCE : 1.95818532349 (fold 1 = -19.7170345245, fold 2 = -16.0788092325, fold 3 = -15.1909509756)\n",
      "CPU time: 229.304561138 seconds\n",
      "\n",
      "\n",
      "##################################################### testing hyper-parameters... ############################################################\n",
      "\n",
      ">>> NA ENCODER :{'numerical_strategy': 0, 'categorical_strategy': '<NULL>'}\n",
      "\n",
      ">>> CA ENCODER :{'strategy': 'label_encoding'}\n",
      "\n",
      ">>> FEATURE SELECTOR :{'threshold': 0.2701209327574472, 'strategy': 'l1'}\n",
      "\n",
      ">>> ESTIMATOR :{'num_leaves': 31, 'reg_alpha': 0, 'subsample_for_bin': 50000, 'colsample_bytree': 0.8, 'silent': True, 'learning_rate': 0.05, 'nthread': -1, 'min_child_weight': 5, 'strategy': 'LightGBM', 'n_estimators': 500, 'subsample': 0.9, 'reg_lambda': 0, 'subsample_freq': 1, 'min_child_samples': 10, 'max_bin': 255, 'objective': 'regression', 'min_split_gain': 0, 'seed': 0, 'max_depth': 3, 'boosting_type': 'gbdt'}\n",
      "\n",
      "\n",
      "MEAN SCORE : make_scorer(<lambda>, greater_is_better=False) = -18.6866822921\n",
      "VARIANCE : 1.81946178946 (fold 1 = -21.2146976016, fold 2 = -17.8380247921, fold 3 = -17.0073244826)\n",
      "CPU time: 80.2206048965 seconds\n",
      "\n",
      "\n",
      "##################################################### testing hyper-parameters... ############################################################\n",
      "\n",
      ">>> NA ENCODER :{'numerical_strategy': 0, 'categorical_strategy': '<NULL>'}\n",
      "\n",
      ">>> CA ENCODER :{'strategy': 'label_encoding'}\n",
      "\n",
      ">>> FEATURE SELECTOR :{'threshold': 0.0479715637982223, 'strategy': 'l1'}\n",
      "\n",
      ">>> ESTIMATOR :{'num_leaves': 31, 'reg_alpha': 0, 'subsample_for_bin': 50000, 'colsample_bytree': 0.8, 'silent': True, 'learning_rate': 0.05, 'nthread': -1, 'min_child_weight': 5, 'strategy': 'LightGBM', 'n_estimators': 500, 'subsample': 0.9, 'reg_lambda': 0, 'subsample_freq': 1, 'min_child_samples': 10, 'max_bin': 255, 'objective': 'regression', 'min_split_gain': 0, 'seed': 0, 'max_depth': 5, 'boosting_type': 'gbdt'}\n",
      "\n"
     ]
    },
    {
     "name": "stdout",
     "output_type": "stream",
     "text": [
      "\n",
      "MEAN SCORE : make_scorer(<lambda>, greater_is_better=False) = -17.0509603977\n",
      "VARIANCE : 1.99373044863 (fold 1 = -19.8347099396, fold 2 = -16.0470231453, fold 3 = -15.2711481081)\n",
      "CPU time: 213.282745123 seconds\n",
      "\n",
      "\n",
      "##################################################### testing hyper-parameters... ############################################################\n",
      "\n",
      ">>> NA ENCODER :{'numerical_strategy': 0, 'categorical_strategy': '<NULL>'}\n",
      "\n",
      ">>> CA ENCODER :{'strategy': 'entity_embedding'}\n",
      "\n",
      ">>> FEATURE SELECTOR :{'threshold': 0.05281239085991175, 'strategy': 'l1'}\n",
      "\n",
      ">>> ESTIMATOR :{'num_leaves': 31, 'reg_alpha': 0, 'subsample_for_bin': 50000, 'colsample_bytree': 0.8, 'silent': True, 'learning_rate': 0.05, 'nthread': -1, 'min_child_weight': 5, 'strategy': 'LightGBM', 'n_estimators': 500, 'subsample': 0.9, 'reg_lambda': 0, 'subsample_freq': 1, 'min_child_samples': 10, 'max_bin': 255, 'objective': 'regression', 'min_split_gain': 0, 'seed': 0, 'max_depth': 4, 'boosting_type': 'gbdt'}\n",
      "\n",
      "\n",
      "MEAN SCORE : make_scorer(<lambda>, greater_is_better=False) = -17.5072954081\n",
      "VARIANCE : 1.88622913568 (fold 1 = -20.156720314, fold 2 = -16.4512859132, fold 3 = -15.9138799973)\n",
      "CPU time: 170.850150108 seconds\n",
      "\n",
      "\n",
      "##################################################### testing hyper-parameters... ############################################################\n",
      "\n",
      ">>> NA ENCODER :{'numerical_strategy': 0, 'categorical_strategy': '<NULL>'}\n",
      "\n",
      ">>> CA ENCODER :{'strategy': 'entity_embedding'}\n",
      "\n",
      ">>> FEATURE SELECTOR :{'threshold': 0.029196703709610805, 'strategy': 'l1'}\n",
      "\n",
      ">>> ESTIMATOR :{'num_leaves': 31, 'reg_alpha': 0, 'subsample_for_bin': 50000, 'colsample_bytree': 0.8, 'silent': True, 'learning_rate': 0.05, 'nthread': -1, 'min_child_weight': 5, 'strategy': 'LightGBM', 'n_estimators': 500, 'subsample': 0.9, 'reg_lambda': 0, 'subsample_freq': 1, 'min_child_samples': 10, 'max_bin': 255, 'objective': 'regression', 'min_split_gain': 0, 'seed': 0, 'max_depth': 7, 'boosting_type': 'gbdt'}\n",
      "\n",
      "\n",
      "MEAN SCORE : make_scorer(<lambda>, greater_is_better=False) = -16.6000539505\n",
      "VARIANCE : 1.95777785425 (fold 1 = -19.3293323726, fold 2 = -15.6386772607, fold 3 = -14.8321522183)\n",
      "CPU time: 44.7548060417 seconds\n",
      "\n",
      "\n",
      "##################################################### testing hyper-parameters... ############################################################\n",
      "\n",
      ">>> NA ENCODER :{'numerical_strategy': 0, 'categorical_strategy': '<NULL>'}\n",
      "\n",
      ">>> CA ENCODER :{'strategy': 'label_encoding'}\n",
      "\n",
      ">>> FEATURE SELECTOR :{'threshold': 0.2901765477934548, 'strategy': 'l1'}\n",
      "\n",
      ">>> ESTIMATOR :{'num_leaves': 31, 'reg_alpha': 0, 'subsample_for_bin': 50000, 'colsample_bytree': 0.8, 'silent': True, 'learning_rate': 0.05, 'nthread': -1, 'min_child_weight': 5, 'strategy': 'LightGBM', 'n_estimators': 500, 'subsample': 0.9, 'reg_lambda': 0, 'subsample_freq': 1, 'min_child_samples': 10, 'max_bin': 255, 'objective': 'regression', 'min_split_gain': 0, 'seed': 0, 'max_depth': 7, 'boosting_type': 'gbdt'}\n",
      "\n",
      "\n",
      "MEAN SCORE : make_scorer(<lambda>, greater_is_better=False) = -16.9223010563\n",
      "VARIANCE : 1.90948247289 (fold 1 = -19.588252867, fold 2 = -15.9617639763, fold 3 = -15.2168863256)\n",
      "CPU time: 4.2472319603 seconds\n",
      "\n",
      "\n",
      "##################################################### testing hyper-parameters... ############################################################\n",
      "\n",
      ">>> NA ENCODER :{'numerical_strategy': 0, 'categorical_strategy': '<NULL>'}\n",
      "\n",
      ">>> CA ENCODER :{'strategy': 'entity_embedding'}\n",
      "\n",
      ">>> FEATURE SELECTOR :{'threshold': 0.02977257064527901, 'strategy': 'l1'}\n",
      "\n",
      ">>> ESTIMATOR :{'num_leaves': 31, 'reg_alpha': 0, 'subsample_for_bin': 50000, 'colsample_bytree': 0.8, 'silent': True, 'learning_rate': 0.05, 'nthread': -1, 'min_child_weight': 5, 'strategy': 'LightGBM', 'n_estimators': 500, 'subsample': 0.9, 'reg_lambda': 0, 'subsample_freq': 1, 'min_child_samples': 10, 'max_bin': 255, 'objective': 'regression', 'min_split_gain': 0, 'seed': 0, 'max_depth': 4, 'boosting_type': 'gbdt'}\n",
      "\n",
      "\n",
      "MEAN SCORE : make_scorer(<lambda>, greater_is_better=False) = -17.5072954081\n",
      "VARIANCE : 1.88622913568 (fold 1 = -20.156720314, fold 2 = -16.4512859132, fold 3 = -15.9138799973)\n",
      "CPU time: 6.87014007568 seconds\n",
      "\n",
      "\n",
      "##################################################### testing hyper-parameters... ############################################################\n",
      "\n",
      ">>> NA ENCODER :{'numerical_strategy': 0, 'categorical_strategy': '<NULL>'}\n",
      "\n",
      ">>> CA ENCODER :{'strategy': 'random_projection'}\n",
      "\n",
      ">>> FEATURE SELECTOR :{'threshold': 0.2972578703902307, 'strategy': 'l1'}\n",
      "\n",
      ">>> ESTIMATOR :{'num_leaves': 31, 'reg_alpha': 0, 'subsample_for_bin': 50000, 'colsample_bytree': 0.8, 'silent': True, 'learning_rate': 0.05, 'nthread': -1, 'min_child_weight': 5, 'strategy': 'LightGBM', 'n_estimators': 500, 'subsample': 0.9, 'reg_lambda': 0, 'subsample_freq': 1, 'min_child_samples': 10, 'max_bin': 255, 'objective': 'regression', 'min_split_gain': 0, 'seed': 0, 'max_depth': 4, 'boosting_type': 'gbdt'}\n",
      "\n",
      "\n",
      "MEAN SCORE : make_scorer(<lambda>, greater_is_better=False) = -18.0947120136\n",
      "VARIANCE : 1.68933617155 (fold 1 = -20.483619598, fold 2 = -16.8752489065, fold 3 = -16.9252675363)\n",
      "CPU time: 4.08027386665 seconds\n",
      "\n",
      "\n",
      "\n",
      "~~~~~~~~~~~~~~~~~~~~~~~~~~~~~~~~~~~~~~~~~~~~~~~~~~~~~~~~~~~~~~~~~~~~~~~~~~~~~~~~~~~~~~~~~~~~~~~~~~~~~~~~~~~~~~~~~~~~~~~~~~~~~~~~~~~~~~~~~\n",
      "~~~~~~~~~~~~~~~~~~~~~~~~~~~~~~~~~~~~~~~~~~~~~~~~~~~~~~~~ BEST HYPER-PARAMETERS ~~~~~~~~~~~~~~~~~~~~~~~~~~~~~~~~~~~~~~~~~~~~~~~~~~~~~~~~~~\n",
      "~~~~~~~~~~~~~~~~~~~~~~~~~~~~~~~~~~~~~~~~~~~~~~~~~~~~~~~~~~~~~~~~~~~~~~~~~~~~~~~~~~~~~~~~~~~~~~~~~~~~~~~~~~~~~~~~~~~~~~~~~~~~~~~~~~~~~~~~~\n",
      "\n",
      "{'est__max_depth': 7, 'fs__threshold': 0.26531787335967333, 'ce__strategy': 'entity_embedding', 'ne__numerical_strategy': 0}\n"
     ]
    }
   ],
   "source": [
    "space = {\n",
    "    \n",
    "        'ne__numerical_strategy':{\"search\":\"choice\",\n",
    "                                 \"space\":[0]},\n",
    "        'ce__strategy':{\"search\":\"choice\",\n",
    "                        \"space\":[\"label_encoding\",\"random_projection\", \"entity_embedding\"]}, \n",
    "        'fs__threshold':{\"search\":\"uniform\",\n",
    "                        \"space\":[0.01,0.3]},    \n",
    "        'est__max_depth':{\"search\":\"choice\",\n",
    "                                  \"space\":[3,4,5,6,7]}\n",
    "    \n",
    "        }\n",
    "\n",
    "best = opt.optimise(space, df,15)"
   ]
  },
  {
   "cell_type": "code",
   "execution_count": 9,
   "metadata": {
    "scrolled": false
   },
   "outputs": [
    {
     "name": "stdout",
     "output_type": "stream",
     "text": [
      "\n",
      "fitting the pipeline...\n",
      "CPU time: 3.09728813171 seconds\n",
      "\n",
      "dumping feature importances into directory : save\n"
     ]
    },
    {
     "data": {
      "image/png": "[encoded data removed]",
      "text/plain": [
       "<matplotlib.figure.Figure at 0x7fecf041c0d0>"
      ]
     },
     "metadata": {},
     "output_type": "display_data"
    },
    {
     "name": "stdout",
     "output_type": "stream",
     "text": [
      "\n",
      "predicting...\n",
      "CPU time: 0.354372024536 seconds\n",
      "\n",
      "top 10 predictions :\n",
      "\n",
      "   SalePrice_predicted\n",
      "0        133447.309873\n",
      "1        147302.419514\n",
      "2        170916.513757\n",
      "3        181202.179247\n",
      "4        201168.127372\n",
      "5        179089.236567\n",
      "6        168791.083876\n",
      "7        168273.419308\n",
      "8        184957.206909\n",
      "9        131798.328023\n",
      "\n",
      "dumping predictions into directory : save\n"
     ]
    },
    {
     "data": {
      "text/plain": [
       "<mlbox.prediction.predictor.Predictor instance at 0x7feca16dbdd0>"
      ]
     },
     "execution_count": 9,
     "metadata": {},
     "output_type": "execute_result"
    }
   ],
   "source": [
    "prd = Predictor()\n",
    "prd.fit_predict(best, df)"
   ]
  },
  {
   "cell_type": "code",
   "execution_count": null,
   "metadata": {
    "collapsed": true
   },
   "outputs": [],
   "source": []
  }
 ],
 "metadata": {
  "kernelspec": {
   "display_name": "Python 2",
   "language": "python",
   "name": "python2"
  },
  "language_info": {
   "codemirror_mode": {
    "name": "ipython",
    "version": 2
   },
   "file_extension": ".py",
   "mimetype": "text/x-python",
   "name": "python",
   "nbconvert_exporter": "python",
   "pygments_lexer": "ipython2",
   "version": "2.7.11"
  }
 },
 "nbformat": 4,
 "nbformat_minor": 1
}
